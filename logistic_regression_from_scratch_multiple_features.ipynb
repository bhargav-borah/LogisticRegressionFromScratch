{
  "nbformat": 4,
  "nbformat_minor": 0,
  "metadata": {
    "colab": {
      "provenance": []
    },
    "kernelspec": {
      "name": "python3",
      "display_name": "Python 3"
    },
    "language_info": {
      "name": "python"
    }
  },
  "cells": [
    {
      "cell_type": "code",
      "execution_count": 315,
      "metadata": {
        "id": "zKdBDQTa_4dW"
      },
      "outputs": [],
      "source": [
        "import numpy as np\n",
        "\n",
        "from sklearn.datasets import make_classification\n",
        "import matplotlib.pyplot as plt\n",
        "from typing import Union"
      ]
    },
    {
      "cell_type": "code",
      "source": [
        "X, y = make_classification(\n",
        "    n_samples=1000,\n",
        "    n_features=3,\n",
        "    n_informative=3,\n",
        "    n_redundant=0,\n",
        "    n_clusters_per_class=1,\n",
        "    flip_y=0.01,\n",
        "    class_sep=1.0,\n",
        "    random_state=42\n",
        ")"
      ],
      "metadata": {
        "id": "Wfgb0WqiAPyN"
      },
      "execution_count": 316,
      "outputs": []
    },
    {
      "cell_type": "code",
      "source": [
        "def sigmoid(z: Union[float, np.ndarray]) -> Union[float, np.ndarray]:\n",
        "  \"\"\"\n",
        "  Compute the sigmoid of z.\n",
        "\n",
        "  Parameters:\n",
        "  z: A scalar or numpy array of any size.\n",
        "\n",
        "  Returns:\n",
        "  The sigmoid of z.\n",
        "  \"\"\"\n",
        "  return 1 / (1 + np.exp(-z))"
      ],
      "metadata": {
        "id": "zv9dZ6PBAdoY"
      },
      "execution_count": 317,
      "outputs": []
    },
    {
      "cell_type": "code",
      "source": [
        "w = np.random.randn(X.shape[1], 1)\n",
        "b = np.random.randn()"
      ],
      "metadata": {
        "id": "lNvnJ3iuA5NH"
      },
      "execution_count": 318,
      "outputs": []
    },
    {
      "cell_type": "code",
      "source": [
        "y_pred = sigmoid(np.dot(X, w) + b)\n",
        "y_pred = y_pred.reshape(-1)\n",
        "y_pred"
      ],
      "metadata": {
        "colab": {
          "base_uri": "https://localhost:8080/"
        },
        "id": "2ja9j8VdBAm9",
        "outputId": "5839f15e-5180-4936-d219-1b81f6075b3a"
      },
      "execution_count": 319,
      "outputs": [
        {
          "output_type": "execute_result",
          "data": {
            "text/plain": [
              "array([7.55101003e-02, 6.50165882e-02, 2.67542727e-01, 9.98036307e-01,\n",
              "       1.94563553e-01, 3.69558970e-01, 5.01089774e-01, 4.72642516e-01,\n",
              "       1.96292161e-01, 1.43704354e-01, 6.17954808e-01, 3.57582853e-01,\n",
              "       7.04366906e-01, 8.98634420e-01, 4.02518707e-02, 1.15680029e-01,\n",
              "       8.78906638e-01, 9.77774261e-01, 8.73318637e-01, 4.01366512e-01,\n",
              "       1.34968350e-01, 1.55201581e-01, 1.50878092e-01, 8.76778720e-01,\n",
              "       8.46080277e-01, 8.30036198e-02, 1.20814912e-01, 9.76227515e-01,\n",
              "       9.16084143e-02, 7.83208547e-01, 7.50810192e-01, 8.13870607e-01,\n",
              "       9.86412080e-01, 1.88525465e-01, 9.87613422e-01, 3.07900440e-01,\n",
              "       9.77512345e-01, 3.88928787e-01, 5.02809793e-01, 9.82913537e-01,\n",
              "       9.03044401e-01, 6.55913347e-02, 7.57840295e-01, 3.32192066e-01,\n",
              "       2.01352490e-01, 9.57749678e-01, 4.50723144e-01, 8.33692753e-01,\n",
              "       7.45728804e-01, 6.14495739e-01, 9.43514941e-01, 1.83114627e-01,\n",
              "       6.81049465e-01, 8.24922208e-01, 9.93322509e-01, 6.85343542e-01,\n",
              "       9.44721755e-01, 9.88782440e-01, 7.10283324e-01, 1.20703248e-02,\n",
              "       9.71260837e-01, 4.21504860e-01, 1.40065101e-01, 9.67976992e-02,\n",
              "       9.80994221e-01, 5.49946812e-02, 4.29274244e-01, 8.80689584e-01,\n",
              "       9.85919675e-01, 3.28890642e-01, 9.80754920e-01, 4.15100096e-01,\n",
              "       9.65287805e-01, 3.94960800e-01, 9.68951366e-01, 1.34253537e-01,\n",
              "       7.53818415e-01, 9.52184378e-01, 8.32163517e-01, 9.75425997e-01,\n",
              "       2.04700201e-01, 8.70542846e-01, 8.17986117e-01, 3.99617558e-01,\n",
              "       9.55100326e-01, 8.80719684e-01, 9.89466930e-01, 8.07925272e-01,\n",
              "       5.50449854e-02, 9.45194749e-01, 8.94965874e-03, 1.52511172e-01,\n",
              "       3.29769378e-01, 5.51650394e-01, 6.95637195e-01, 9.89540441e-01,\n",
              "       5.14401625e-01, 9.50559907e-01, 6.05753117e-01, 3.69927881e-01,\n",
              "       8.65430067e-01, 1.03400951e-01, 3.32987787e-02, 9.05471807e-01,\n",
              "       9.87057548e-01, 2.30628030e-01, 4.25829332e-01, 7.85344069e-01,\n",
              "       9.40094562e-01, 7.25937999e-01, 9.36617837e-01, 7.69768028e-01,\n",
              "       9.82196321e-01, 6.40767874e-01, 3.78142997e-01, 7.14053400e-01,\n",
              "       9.81871108e-01, 9.60036265e-01, 3.65465211e-02, 3.51348665e-01,\n",
              "       4.47531384e-02, 7.72184925e-03, 7.49613460e-01, 4.13874481e-01,\n",
              "       1.24561397e-01, 9.30519406e-01, 9.87759673e-01, 6.87538974e-01,\n",
              "       9.78000783e-01, 9.27030811e-01, 8.50936724e-01, 3.97562683e-01,\n",
              "       8.46200756e-01, 8.36238301e-01, 3.72316727e-01, 2.06356277e-01,\n",
              "       1.35527771e-01, 1.47925188e-01, 9.42244853e-01, 8.94583568e-01,\n",
              "       9.96297328e-01, 9.99422381e-01, 9.96875577e-01, 4.94719860e-01,\n",
              "       9.57343935e-01, 8.68117911e-01, 5.92916108e-01, 3.43368940e-01,\n",
              "       9.00725435e-01, 9.51451330e-01, 9.85749173e-01, 1.71726305e-01,\n",
              "       8.28376854e-01, 8.30565261e-01, 3.76142047e-01, 4.32824392e-01,\n",
              "       8.43824263e-01, 7.64314375e-01, 6.44575802e-01, 4.02213236e-01,\n",
              "       5.18536971e-01, 2.16031382e-01, 3.50495274e-01, 4.51491460e-01,\n",
              "       9.93502370e-01, 5.57605873e-02, 6.65219659e-01, 9.96923258e-01,\n",
              "       3.07782627e-02, 9.15563684e-01, 6.77312217e-02, 9.77359606e-01,\n",
              "       9.57522197e-01, 2.56880515e-01, 9.27684803e-01, 7.65943082e-01,\n",
              "       2.50597611e-01, 2.20060655e-02, 5.46359889e-01, 9.69279041e-01,\n",
              "       9.79589330e-01, 4.29465490e-01, 9.05403498e-01, 2.99377765e-01,\n",
              "       7.72370538e-03, 9.09252456e-01, 1.90245985e-02, 4.48901775e-01,\n",
              "       9.77697508e-01, 9.86768175e-01, 3.06574424e-02, 3.02376355e-01,\n",
              "       8.49907337e-01, 8.86006616e-01, 8.25681516e-01, 8.44249204e-01,\n",
              "       9.97782410e-01, 6.63364498e-01, 1.37171048e-01, 5.78439504e-01,\n",
              "       9.90717076e-01, 9.84790708e-01, 9.62861512e-01, 6.85638429e-01,\n",
              "       5.33700091e-01, 9.48595265e-01, 6.95172643e-01, 4.89581452e-01,\n",
              "       6.64543588e-01, 6.00637077e-01, 9.80707783e-01, 7.70361561e-01,\n",
              "       7.86290081e-01, 9.89469478e-01, 3.89871603e-01, 3.60743854e-02,\n",
              "       1.35704459e-01, 9.84937248e-01, 2.50468212e-01, 7.27562334e-01,\n",
              "       7.19126960e-02, 2.86880406e-01, 2.09424876e-01, 6.89322579e-01,\n",
              "       5.66382858e-01, 9.84371760e-01, 1.91044196e-01, 9.97738233e-01,\n",
              "       6.12831648e-01, 9.26058979e-01, 5.61526308e-01, 6.86553006e-01,\n",
              "       5.32569473e-01, 7.42896785e-01, 8.09344955e-01, 9.24898927e-01,\n",
              "       4.92590536e-01, 5.45150194e-01, 9.44065169e-01, 4.35767505e-02,\n",
              "       8.22365139e-01, 7.51451368e-01, 9.87244372e-01, 7.15445927e-02,\n",
              "       9.86336831e-01, 6.78746179e-01, 4.03957624e-01, 5.20411514e-02,\n",
              "       9.73890621e-01, 9.39853352e-01, 9.81786379e-01, 8.38205440e-01,\n",
              "       8.88655763e-01, 6.67769230e-02, 6.93722103e-01, 6.15214289e-01,\n",
              "       9.72685891e-01, 7.77605661e-01, 4.44190496e-01, 9.78729391e-01,\n",
              "       9.88033718e-01, 9.28321963e-01, 9.22808393e-01, 2.86782373e-01,\n",
              "       9.90874543e-01, 9.19684975e-01, 1.70219685e-01, 1.78684062e-01,\n",
              "       7.35977975e-01, 9.48818021e-01, 7.45590923e-01, 9.69329423e-01,\n",
              "       1.07058066e-02, 8.99379606e-01, 9.46073143e-01, 2.54974761e-01,\n",
              "       4.87726776e-01, 8.55356238e-01, 9.24955687e-01, 4.17677491e-01,\n",
              "       9.26863646e-01, 9.87567010e-01, 9.61766115e-01, 9.68989939e-01,\n",
              "       4.19037110e-01, 9.98193599e-01, 9.34776985e-01, 9.89483306e-01,\n",
              "       9.78663671e-01, 6.33780191e-02, 4.16194385e-01, 1.56617417e-01,\n",
              "       6.94361387e-01, 5.54787242e-01, 2.19333200e-01, 7.40916722e-01,\n",
              "       5.42277915e-01, 3.50754731e-02, 4.53555462e-01, 2.76739655e-01,\n",
              "       9.83102006e-01, 9.51002131e-01, 9.28914229e-01, 7.46364072e-01,\n",
              "       9.94953060e-01, 1.39808706e-01, 9.98628085e-01, 9.96764876e-01,\n",
              "       6.45791249e-01, 4.48427137e-01, 9.86775202e-01, 9.26144370e-01,\n",
              "       1.67672540e-01, 1.55842368e-01, 9.76251994e-01, 7.25539576e-01,\n",
              "       5.61196876e-01, 9.09761957e-01, 9.93240025e-01, 9.74733483e-01,\n",
              "       6.33286814e-01, 9.64665492e-01, 3.36918044e-02, 8.65386084e-01,\n",
              "       5.85253948e-03, 1.21223965e-01, 9.38496645e-01, 2.02446091e-01,\n",
              "       9.33566206e-02, 6.47494319e-01, 9.98106002e-01, 1.27362647e-01,\n",
              "       3.81099157e-01, 2.03568828e-01, 9.31696709e-01, 2.67321924e-01,\n",
              "       5.64442124e-02, 9.90633507e-01, 5.64092732e-01, 9.55803423e-01,\n",
              "       9.95095293e-01, 1.00836911e-01, 5.54420559e-02, 8.70359564e-01,\n",
              "       8.60617998e-01, 8.61319421e-01, 4.56181534e-02, 1.61221438e-01,\n",
              "       9.45337877e-01, 6.40632533e-02, 6.40682005e-01, 2.31690663e-03,\n",
              "       3.61156925e-01, 5.07548175e-01, 7.11538608e-02, 8.68238906e-01,\n",
              "       9.61753546e-01, 9.66664278e-01, 8.01240002e-01, 8.34202026e-01,\n",
              "       7.57679573e-01, 9.90975545e-01, 7.05400234e-01, 4.33787703e-01,\n",
              "       9.62830186e-01, 4.47908600e-02, 1.82292918e-01, 9.61954942e-02,\n",
              "       1.87537559e-01, 9.67129013e-01, 1.91924403e-01, 1.52206440e-01,\n",
              "       7.54237330e-01, 9.87819045e-01, 4.01426698e-01, 9.92370762e-01,\n",
              "       4.71221479e-02, 7.85150756e-01, 5.53764511e-01, 9.87979299e-01,\n",
              "       9.75324660e-01, 7.43973037e-01, 7.17833316e-01, 4.04375238e-02,\n",
              "       7.95659594e-01, 1.21361214e-02, 9.53730682e-01, 3.80541869e-02,\n",
              "       4.07988979e-01, 9.00570630e-01, 8.72649108e-01, 8.72721066e-01,\n",
              "       9.90714764e-01, 3.54277885e-01, 4.25174411e-01, 8.30117520e-01,\n",
              "       6.42630771e-01, 8.78291617e-01, 9.11265697e-01, 5.62128189e-02,\n",
              "       9.68344037e-01, 9.81405502e-01, 2.71613006e-01, 7.52185422e-01,\n",
              "       9.95830896e-01, 1.54755032e-02, 5.86887678e-01, 5.47815930e-02,\n",
              "       9.43491993e-01, 9.78672952e-01, 9.60407087e-01, 8.13416190e-01,\n",
              "       9.93879922e-01, 6.78178226e-01, 9.92911847e-01, 5.48791620e-01,\n",
              "       5.19895578e-01, 9.94020278e-01, 6.78381029e-01, 7.72494515e-02,\n",
              "       3.03475178e-01, 1.14194764e-01, 6.49428692e-01, 2.10403630e-01,\n",
              "       9.53540059e-01, 1.88253315e-02, 6.33570500e-02, 8.36762823e-01,\n",
              "       3.69222623e-01, 2.56920127e-03, 8.34104219e-01, 5.95905413e-01,\n",
              "       5.84221586e-01, 8.88951990e-01, 3.17367341e-01, 7.51749292e-01,\n",
              "       5.46723945e-01, 7.55114257e-01, 9.92417748e-01, 1.64817859e-01,\n",
              "       7.02271622e-01, 5.94546712e-01, 3.29557450e-01, 9.57480975e-01,\n",
              "       9.90663944e-01, 8.82331052e-01, 2.90899345e-01, 4.35886688e-01,\n",
              "       9.71733621e-01, 9.65752674e-01, 1.79828670e-02, 8.81703052e-01,\n",
              "       9.64526958e-01, 8.03899789e-01, 4.20835654e-01, 4.38839317e-01,\n",
              "       9.91731505e-01, 9.75481880e-01, 3.60615144e-02, 6.79209415e-01,\n",
              "       9.66402890e-01, 8.09701818e-01, 6.68464698e-01, 8.81652252e-01,\n",
              "       9.87365104e-01, 1.13664965e-01, 8.36159745e-01, 7.63645776e-01,\n",
              "       5.65229266e-01, 9.08355428e-01, 9.73009744e-02, 9.82375596e-01,\n",
              "       7.90416716e-01, 6.25379072e-02, 8.95663131e-01, 9.72738937e-01,\n",
              "       9.20644862e-01, 1.18729706e-01, 9.63757814e-01, 9.02005210e-01,\n",
              "       8.83351907e-02, 9.20094030e-01, 9.76281909e-01, 2.77526094e-01,\n",
              "       9.73588674e-01, 7.43060806e-02, 7.99291287e-02, 8.49271467e-01,\n",
              "       9.66441660e-01, 9.27708473e-01, 9.59370390e-01, 2.16060463e-02,\n",
              "       9.27990270e-01, 3.53414739e-01, 2.99422681e-01, 3.03590934e-02,\n",
              "       9.28811703e-01, 2.52895085e-02, 9.88411383e-01, 9.10913097e-01,\n",
              "       3.00985451e-01, 6.46516743e-01, 2.24435435e-01, 9.70981032e-01,\n",
              "       9.91469646e-01, 8.59712249e-03, 9.51997978e-01, 2.26467881e-01,\n",
              "       8.07467362e-01, 9.87732590e-01, 9.35223668e-01, 9.41449306e-01,\n",
              "       9.83292637e-01, 9.92715874e-01, 9.65227176e-01, 9.61392777e-01,\n",
              "       8.10586627e-01, 4.85337603e-01, 9.87042872e-01, 4.39066302e-01,\n",
              "       7.00456526e-02, 8.65782181e-01, 4.38895413e-02, 9.64461240e-01,\n",
              "       9.91557791e-01, 9.61465721e-01, 8.91799528e-01, 5.10886527e-01,\n",
              "       1.36620588e-01, 9.83519082e-02, 9.91395798e-01, 8.80420426e-01,\n",
              "       9.84971763e-01, 5.66552071e-01, 9.90986611e-01, 9.43040279e-01,\n",
              "       3.54741237e-01, 4.49487413e-02, 9.99510287e-01, 2.51868114e-01,\n",
              "       7.88092468e-01, 9.27331013e-01, 9.85344225e-01, 9.56697748e-01,\n",
              "       9.96537966e-01, 3.21790526e-01, 9.03845453e-01, 4.44415702e-01,\n",
              "       7.26155689e-01, 8.54997798e-01, 4.10162518e-01, 9.78677826e-01,\n",
              "       6.76489791e-01, 2.54517560e-01, 2.17934157e-01, 9.48441047e-01,\n",
              "       4.41962160e-01, 9.66092107e-01, 8.30436151e-01, 9.94646760e-01,\n",
              "       9.78026864e-01, 9.76051890e-01, 9.84924068e-04, 9.40898142e-01,\n",
              "       5.54184422e-01, 1.52202898e-02, 2.15766869e-02, 3.35942621e-01,\n",
              "       8.22840309e-01, 9.81125747e-01, 8.58249758e-01, 2.28562003e-01,\n",
              "       8.26537538e-01, 1.79518680e-02, 2.85706845e-01, 4.23582037e-01,\n",
              "       8.24714696e-01, 9.84507053e-01, 9.62416489e-01, 8.69993953e-01,\n",
              "       6.64762505e-01, 5.67553333e-01, 4.50001637e-01, 9.60919906e-02,\n",
              "       9.14365289e-01, 9.59440125e-01, 5.80578800e-01, 6.11466398e-01,\n",
              "       3.49024111e-01, 9.85329228e-01, 9.80465188e-02, 9.15366323e-01,\n",
              "       9.80376017e-01, 1.51450965e-01, 7.74999352e-01, 9.87077407e-01,\n",
              "       9.61005019e-01, 1.97567372e-01, 9.50915474e-01, 4.13794562e-01,\n",
              "       4.05628345e-01, 9.26335593e-01, 2.24414455e-01, 1.13972841e-01,\n",
              "       7.31167971e-01, 9.24269377e-01, 1.62583792e-01, 1.89623778e-01,\n",
              "       8.09896351e-01, 3.79110958e-01, 1.96861850e-01, 3.52321186e-01,\n",
              "       9.89100416e-01, 9.87640574e-01, 9.60718471e-01, 7.42167107e-01,\n",
              "       6.05893531e-02, 9.28192970e-01, 1.82966755e-01, 9.89550167e-01,\n",
              "       2.25363511e-01, 9.88063904e-02, 9.75781074e-01, 4.65989304e-02,\n",
              "       8.81460402e-01, 7.96095715e-01, 3.95133350e-01, 7.18192033e-01,\n",
              "       8.73324463e-01, 9.94890257e-01, 5.98488801e-01, 5.88299808e-01,\n",
              "       5.72395795e-02, 4.28051336e-01, 1.88315230e-01, 3.03146017e-02,\n",
              "       4.09923978e-01, 8.54018830e-01, 8.89066868e-01, 6.79256531e-01,\n",
              "       4.90839417e-02, 1.34758351e-01, 3.02300127e-01, 3.21117311e-02,\n",
              "       5.80527686e-01, 9.40396855e-01, 1.97072376e-02, 3.05707112e-01,\n",
              "       9.99342585e-01, 1.08337654e-01, 2.60646736e-02, 8.53987988e-01,\n",
              "       9.38385741e-01, 3.09548790e-01, 8.67894483e-01, 6.00714782e-02,\n",
              "       7.29732986e-01, 4.76384543e-01, 6.90096849e-01, 6.37581112e-01,\n",
              "       9.28602640e-01, 3.50710528e-01, 9.84001112e-01, 4.52338826e-01,\n",
              "       6.43201015e-01, 4.31381318e-02, 4.18838588e-01, 1.93439144e-01,\n",
              "       9.17936780e-01, 8.53255713e-01, 9.37507418e-01, 9.95670721e-01,\n",
              "       9.90584354e-01, 9.91721648e-01, 9.03807257e-01, 1.44675197e-01,\n",
              "       3.35052265e-01, 3.48153716e-01, 9.12710497e-01, 9.77362261e-01,\n",
              "       9.29125404e-01, 9.36933406e-01, 9.39975618e-01, 5.40404406e-01,\n",
              "       6.46650897e-01, 6.65670589e-01, 1.17792905e-01, 2.16836607e-01,\n",
              "       3.35910324e-01, 9.62137200e-01, 2.32115924e-01, 6.58502187e-01,\n",
              "       6.23956088e-01, 1.75126739e-01, 2.62913765e-01, 3.71242020e-03,\n",
              "       8.54305135e-01, 8.94544750e-01, 9.30188440e-01, 6.60430972e-02,\n",
              "       6.15304287e-01, 9.59542382e-01, 2.15817722e-01, 9.90136379e-01,\n",
              "       6.94523144e-01, 7.36616964e-02, 9.58890915e-01, 2.03859985e-01,\n",
              "       8.98849278e-01, 9.87347635e-01, 6.92544802e-01, 1.42518141e-02,\n",
              "       2.23214904e-01, 9.87235825e-01, 7.10192337e-01, 7.61454435e-01,\n",
              "       3.90693298e-01, 2.33401903e-01, 5.62293635e-03, 6.30230300e-01,\n",
              "       9.37572965e-01, 9.27815567e-01, 3.24411747e-02, 2.47064114e-01,\n",
              "       2.26412128e-01, 8.48239174e-02, 9.92468713e-01, 7.77035098e-02,\n",
              "       9.93201522e-01, 7.49121007e-01, 9.99846623e-01, 5.34913046e-01,\n",
              "       3.01606140e-02, 9.43221052e-01, 9.94430494e-01, 6.66767423e-03,\n",
              "       2.82991296e-01, 4.18821148e-01, 6.10349405e-01, 8.74127117e-01,\n",
              "       6.87618465e-02, 9.95965556e-01, 8.21360078e-01, 4.32944129e-02,\n",
              "       3.90311010e-02, 3.32308715e-01, 4.83880797e-01, 3.53466812e-01,\n",
              "       9.94226876e-01, 9.22267475e-01, 7.04679348e-01, 8.95999008e-01,\n",
              "       9.96306055e-01, 9.21656085e-01, 3.64077200e-03, 9.89758012e-01,\n",
              "       7.08065442e-01, 8.59633965e-01, 9.55705189e-01, 9.52898658e-01,\n",
              "       2.96898825e-01, 4.91480850e-02, 9.90442731e-01, 3.85499781e-02,\n",
              "       9.52243420e-01, 2.18559248e-01, 9.81629235e-01, 8.58139110e-01,\n",
              "       4.81925506e-01, 7.47784496e-01, 2.51473956e-01, 8.15806503e-01,\n",
              "       9.62275708e-01, 7.10848061e-02, 9.73474635e-02, 6.73300160e-01,\n",
              "       1.48476220e-01, 2.33319651e-01, 8.78574345e-01, 9.76126840e-01,\n",
              "       8.18382076e-01, 6.59930696e-01, 4.57982605e-01, 3.19386676e-01,\n",
              "       7.04095594e-01, 6.75150116e-02, 2.70757634e-01, 1.17540254e-01,\n",
              "       7.05935073e-01, 8.90591958e-01, 5.58109349e-01, 2.91650476e-01,\n",
              "       1.91210170e-01, 5.09973786e-01, 2.93500573e-01, 9.98780455e-01,\n",
              "       7.76585050e-01, 2.32112830e-02, 7.84225316e-01, 2.62697840e-01,\n",
              "       5.63025443e-01, 8.79177432e-01, 9.79019889e-01, 9.72542724e-01,\n",
              "       7.20831519e-01, 9.89473229e-01, 7.74702664e-01, 9.87264474e-01,\n",
              "       8.56314315e-01, 1.96512308e-01, 9.25253395e-01, 8.10284225e-01,\n",
              "       7.10722143e-02, 3.24389491e-01, 9.86970559e-01, 8.27548417e-01,\n",
              "       9.64659380e-01, 9.28382285e-01, 8.94314341e-03, 8.73520133e-01,\n",
              "       2.16360418e-02, 2.63515653e-01, 9.85793605e-01, 3.65563935e-01,\n",
              "       7.61939260e-01, 9.65279726e-01, 9.98353645e-01, 8.98482432e-01,\n",
              "       7.07865257e-01, 9.96187634e-01, 5.63224774e-01, 7.39187040e-01,\n",
              "       1.33482042e-01, 9.93465421e-01, 4.32374695e-01, 3.78006409e-01,\n",
              "       7.79991317e-01, 6.92981978e-01, 9.53081872e-01, 2.76912212e-01,\n",
              "       1.79068479e-01, 8.67991428e-02, 1.14626445e-01, 8.16530894e-01,\n",
              "       9.73344996e-01, 6.14463536e-01, 7.53329473e-02, 4.95457642e-03,\n",
              "       9.60001388e-01, 8.28730164e-01, 9.86933174e-01, 8.86024139e-01,\n",
              "       9.78818738e-01, 2.52746184e-01, 6.69899152e-01, 5.84019025e-01,\n",
              "       2.82576618e-01, 2.40629148e-01, 9.65912178e-01, 7.80943825e-01,\n",
              "       3.87672025e-02, 9.54932576e-01, 1.58962731e-01, 6.46285788e-01,\n",
              "       4.78283906e-01, 9.56170675e-01, 9.83983643e-01, 9.42016260e-01,\n",
              "       4.35981985e-02, 9.17403529e-01, 9.33948551e-01, 1.15151389e-01,\n",
              "       6.31795751e-02, 3.25158611e-01, 6.18526736e-01, 1.08452693e-01,\n",
              "       9.90741252e-01, 8.92186345e-01, 9.63260850e-01, 4.56093784e-02,\n",
              "       3.21059714e-02, 6.03798608e-01, 2.63632054e-01, 2.87395951e-01,\n",
              "       2.49172565e-01, 9.64225588e-01, 7.64498807e-02, 1.11615366e-01,\n",
              "       3.09499610e-01, 5.35184541e-01, 9.26134026e-01, 7.46311077e-01,\n",
              "       9.93402506e-01, 5.11672689e-01, 9.96405612e-01, 9.33357376e-01,\n",
              "       3.12171292e-02, 9.23110463e-01, 9.98350950e-01, 2.82254803e-02,\n",
              "       1.04885598e-01, 6.19782412e-01, 3.62635467e-01, 4.02576921e-01,\n",
              "       9.82719960e-01, 9.29782094e-01, 2.07239106e-01, 2.18574590e-01,\n",
              "       1.74390944e-01, 6.13033442e-01, 8.03261017e-01, 9.82174490e-01,\n",
              "       9.96201834e-02, 9.82317111e-01, 9.81601017e-01, 9.54574031e-01,\n",
              "       9.83902658e-01, 9.39490069e-01, 9.42017595e-01, 1.85741399e-01,\n",
              "       9.71975595e-01, 8.41359923e-01, 9.65518616e-01, 2.07540740e-02,\n",
              "       9.87944858e-01, 8.55736174e-01, 9.69750296e-01, 1.36978663e-01,\n",
              "       2.37327895e-01, 9.63154199e-01, 8.52110485e-01, 9.90697114e-01,\n",
              "       3.31644225e-02, 8.65867298e-01, 6.69799218e-01, 8.80690230e-03,\n",
              "       6.89746012e-01, 7.47847812e-01, 9.92708578e-01, 9.00261919e-01,\n",
              "       6.96855822e-01, 9.46118272e-01, 6.07175373e-01, 8.14506802e-01,\n",
              "       5.71569386e-01, 5.50567008e-01, 9.25584486e-01, 7.92047304e-02,\n",
              "       1.54507585e-01, 3.85486032e-01, 9.27213343e-01, 9.47919679e-01,\n",
              "       6.95265314e-01, 7.54000102e-01, 1.66610890e-01, 2.98014216e-01,\n",
              "       9.50909889e-01, 2.21024639e-01, 8.69544166e-01, 3.22492101e-01,\n",
              "       4.49060706e-01, 8.97604435e-01, 1.52703948e-01, 9.65386484e-01,\n",
              "       6.70233778e-01, 8.25018760e-01, 9.71179790e-01, 7.82423911e-01,\n",
              "       8.69336332e-01, 9.94227646e-01, 9.34047630e-01, 8.92849915e-01,\n",
              "       8.64895158e-01, 2.24310162e-01, 9.98010536e-01, 8.47185104e-01,\n",
              "       3.97423685e-01, 1.16012329e-01, 8.78588772e-01, 5.97945367e-01,\n",
              "       9.93176272e-01, 9.38810135e-01, 8.95897560e-01, 9.96936398e-01,\n",
              "       9.45843537e-01, 1.25303012e-02, 2.41027793e-01, 9.52289708e-01,\n",
              "       1.44810164e-01, 3.13493343e-01, 9.55513882e-01, 4.30214289e-01,\n",
              "       6.04958675e-02, 6.71438691e-01, 6.14893496e-01, 9.57379780e-01,\n",
              "       9.99193844e-01, 4.36516499e-01, 1.85533225e-01, 2.69407056e-01])"
            ]
          },
          "metadata": {},
          "execution_count": 319
        }
      ]
    },
    {
      "cell_type": "code",
      "source": [
        "def logloss(w: np.ndarray, b: np.ndarray, X: np.ndarray, y: np.ndarray):\n",
        "  \"\"\"\n",
        "  Computes the logistic regression log loss.\n",
        "\n",
        "  Parameters:\n",
        "  w: A numpy array representing the weights.\n",
        "  b: A scalar representing the bias.\n",
        "  X: A numpy array of input features.\n",
        "  y: A numpy array of true labels.\n",
        "\n",
        "  Returns:\n",
        "  The log loss as a float.\n",
        "  \"\"\"\n",
        "  y_pred = sigmoid(np.dot(X, w) + b)\n",
        "  y_pred = y_pred.reshape(-1)\n",
        "  y_pred = np.clip(y_pred, 1e-10, 1 - 1e-10)\n",
        "  m = len(y)\n",
        "\n",
        "  return -(1 / m) * np.sum(y * np.log(y_pred) + (1 - y) * np.log(1 - y_pred))"
      ],
      "metadata": {
        "id": "WlFT2XGnBf72"
      },
      "execution_count": 320,
      "outputs": []
    },
    {
      "cell_type": "code",
      "source": [
        "def accuracy_score(y, y_pred, threshold=0.5):\n",
        "  \"\"\"\n",
        "  Calculate the accuracy of predictions.\n",
        "\n",
        "  Parameters:\n",
        "  y (numpy array): True labels.\n",
        "  y_pred (numpy array): Predicted probabilities.\n",
        "  threshold (float, optional): Threshold for converting predicted probabilities to binary labels. Default is 0.5.\n",
        "\n",
        "  Returns:\n",
        "  float: Accuracy of the predictions as the proportion of correctly predicted labels.\n",
        "  \"\"\"\n",
        "  n_total = len(y)\n",
        "  n_correct = ((y_pred.reshape(-1) >= threshold).astype(int) == y).sum()\n",
        "\n",
        "  return n_correct / n_total"
      ],
      "metadata": {
        "id": "5FTRQ8WpDQ5p"
      },
      "execution_count": 322,
      "outputs": []
    },
    {
      "cell_type": "code",
      "source": [
        "def weight_gradients(y, y_pred, X):\n",
        "  \"\"\"\n",
        "  Calculate the gradient of the loss function with respect to the weights.\n",
        "\n",
        "  Parameters:\n",
        "  y (numpy array): True labels.\n",
        "  y_pred (numpy array): Predicted probabilities.\n",
        "  X (numpy array): Feature matrix.\n",
        "\n",
        "  Returns:\n",
        "  numpy array: Gradient of the loss with respect to the weights.\n",
        "  \"\"\"\n",
        "  return (-1 / len(y)) * np.dot(X.T, y - y_pred.reshape(-1))"
      ],
      "metadata": {
        "id": "AbNk66m-Dh8b"
      },
      "execution_count": 323,
      "outputs": []
    },
    {
      "cell_type": "code",
      "source": [
        "def bias_gradient(y, y_pred):\n",
        "  \"\"\"\n",
        "  Calculate the gradient of the loss function with respect to the bias term.\n",
        "\n",
        "  Parameters:\n",
        "  y (numpy array): True labels.\n",
        "  y_pred (numpy array): Predicted probabilities.\n",
        "\n",
        "  Returns:\n",
        "  float: Gradient of the loss with respect to the bias.\n",
        "  \"\"\"\n",
        "  m = len(y)\n",
        "  return -(1 / m) * np.sum(y - y_pred)"
      ],
      "metadata": {
        "id": "nxorFtUMFt8C"
      },
      "execution_count": 324,
      "outputs": []
    },
    {
      "cell_type": "code",
      "source": [
        "# Before training\n",
        "w = np.random.randn(X.shape[1])\n",
        "b = 0\n",
        "y_pred = sigmoid(np.dot(X, w) + b)\n",
        "\n",
        "print(f'Weights:\\n {w}')\n",
        "print(f'Bias: {b}')\n",
        "print(f'Accuracy: {accuracy_score(y, y_pred)}')"
      ],
      "metadata": {
        "colab": {
          "base_uri": "https://localhost:8080/"
        },
        "id": "bWAMwLJKGCnU",
        "outputId": "1529d2c9-1396-47fa-a833-36383e7479ec"
      },
      "execution_count": 325,
      "outputs": [
        {
          "output_type": "stream",
          "name": "stdout",
          "text": [
            "Weights:\n",
            " [-0.18551581 -0.00313409  0.21406964]\n",
            "Bias: 0\n",
            "Accuracy: 0.734\n"
          ]
        }
      ]
    },
    {
      "cell_type": "code",
      "source": [
        "n_iterations = 300\n",
        "learning_rate = 1\n",
        "losses = []\n",
        "accuracies = []\n",
        "\n",
        "for _ in range(n_iterations):\n",
        "  losses.append(logloss(w, b, X, y))\n",
        "  y_pred = sigmoid(np.dot(X, w) + b)\n",
        "  accuracies.append(accuracy_score(y, y_pred))\n",
        "  w -= learning_rate * weight_gradients(y, y_pred, X)\n",
        "  b -= learning_rate * bias_gradient(y, y_pred)"
      ],
      "metadata": {
        "id": "Cs9Fki7CGfnV"
      },
      "execution_count": 326,
      "outputs": []
    },
    {
      "cell_type": "code",
      "source": [
        "# After training\n",
        "y_pred = sigmoid(np.dot(X, w) + b)\n",
        "\n",
        "print(f'Weights:\\n {w}')\n",
        "print(f'Bias: {b}')\n",
        "print(f'Accuracy: {accuracy_score(y, y_pred)}')"
      ],
      "metadata": {
        "colab": {
          "base_uri": "https://localhost:8080/"
        },
        "id": "Qy__jiDoId7q",
        "outputId": "bd30a4cd-137f-4f98-ce46-fa3a8578eed2"
      },
      "execution_count": 327,
      "outputs": [
        {
          "output_type": "stream",
          "name": "stdout",
          "text": [
            "Weights:\n",
            " [-1.36365102 -2.10000212  3.93933178]\n",
            "Bias: -0.35640331319704766\n",
            "Accuracy: 0.922\n"
          ]
        }
      ]
    },
    {
      "cell_type": "code",
      "source": [
        "plt.figure(figsize=(10, 7))\n",
        "plt.plot(range(len(losses)), losses)\n",
        "plt.title('Loss vs Iterations', fontsize=14)\n",
        "plt.ylabel('Loss', fontsize=12)\n",
        "plt.xlabel('Iterations', fontsize=12)\n",
        "plt.show()"
      ],
      "metadata": {
        "colab": {
          "base_uri": "https://localhost:8080/",
          "height": 511
        },
        "id": "igbIhvcuJCrD",
        "outputId": "2c3d78ab-07d6-4cef-ff71-d0d4a91f209a"
      },
      "execution_count": 328,
      "outputs": [
        {
          "output_type": "display_data",
          "data": {
            "text/plain": [
              "<Figure size 1000x700 with 1 Axes>"
            ],
            "image/png": "[encoded data removed]"
          },
          "metadata": {}
        }
      ]
    },
    {
      "cell_type": "code",
      "source": [
        "plt.figure(figsize=(10, 7))\n",
        "plt.plot(range(len(accuracies)), accuracies)\n",
        "plt.title('Accuracy vs Iteraions', fontsize=14)\n",
        "plt.ylabel('Accuracy', fontsize=12)\n",
        "plt.xlabel('Iterations', fontsize=12)\n",
        "plt.show()"
      ],
      "metadata": {
        "colab": {
          "base_uri": "https://localhost:8080/",
          "height": 506
        },
        "id": "PLCfJQ17Z7Sw",
        "outputId": "0444ed5d-2522-4bf1-cce1-340e2aa4a869"
      },
      "execution_count": 329,
      "outputs": [
        {
          "output_type": "display_data",
          "data": {
            "text/plain": [
              "<Figure size 1000x700 with 1 Axes>"
            ],
            "image/png": "[encoded data removed]"
          },
          "metadata": {}
        }
      ]
    },
    {
      "cell_type": "code",
      "source": [
        "class LogisticRegressionV1:\n",
        "\n",
        "  def __init__(self, n_features, learning_rate=0.001, n_iterations=1000):\n",
        "    self.w = np.random.randn(n_features)\n",
        "    self.b = np.random.randn()\n",
        "    self.learning_rate = learning_rate\n",
        "    self.n_iterations = n_iterations\n",
        "    self.losses = []\n",
        "    self.accuracies = []\n",
        "\n",
        "  def sigmoid(self, z: np.ndarray) -> float:\n",
        "    return 1 / (1 + np.exp(-z))\n",
        "\n",
        "  def logloss(self, X: np.ndarray, y: np.ndarray) -> float:\n",
        "    y_pred = self.sigmoid(np.dot(X, self.w) + self.b)\n",
        "    y_pred = y_pred.reshape(-1)\n",
        "    y_pred = np.clip(y_pred, 1e-10, 1 - 1e-10) # to prevent divide by 0\n",
        "    m = len(y)\n",
        "\n",
        "    return (-1 / m) * np.sum(y * np.log(y_pred) + (1 - y) * np.log(1 - y_pred))\n",
        "\n",
        "  def accuracy_score(self, y, y_pred, threshold=0.5):\n",
        "    n_total = len(y)\n",
        "    n_correct = ((y_pred.reshape(-1) >= threshold).astype(int) == y).sum()\n",
        "\n",
        "    return n_correct / n_total\n",
        "\n",
        "  def weight_gradients(self, y, y_pred, X):\n",
        "    m = len(y)\n",
        "    return (-1 / m) * np.dot(X.T, y - y_pred.reshape(-1))\n",
        "\n",
        "  def bias_gradient(self, y, y_pred):\n",
        "    m = len(y)\n",
        "    return (-1 / m) * np.sum(y - y_pred.reshape(-1))\n",
        "\n",
        "  def fit(self, X, y):\n",
        "    for _ in range(self.n_iterations):\n",
        "      y_pred = self.sigmoid(np.dot(X, self.w) + self.b)\n",
        "      self.losses.append(self.logloss(X, y))\n",
        "      self.accuracies.append(self.accuracy_score(y, y_pred))\n",
        "      self.w -= self.learning_rate * self.weight_gradients(y, y_pred, X)\n",
        "      self.b -= self.learning_rate * self.bias_gradient(y, y_pred)\n",
        "\n",
        "  def predict(self, X, threshold=0.5):\n",
        "    y_pred = self.sigmoid(np.dot(X, self.w) + self.b)\n",
        "    y_pred = y_pred.reshape(-1)\n",
        "\n",
        "    return (y_pred >= threshold).astype(int)\n",
        "\n",
        "  def predict_probs(self, X):\n",
        "    return self.sigmoid(np.dot(X, self.w) + b)\n",
        "\n",
        "  def plot_loss_curves(self):\n",
        "    plt.figure(figsize=(10, 7))\n",
        "    plt.plot(range(len(self.losses)), self.losses)\n",
        "    plt.title('Loss vs Iterations', fontsize=14)\n",
        "    plt.ylabel('Loss', fontsize=12)\n",
        "    plt.xlabel('Iterations', fontsize=12)\n",
        "    plt.show()\n",
        "\n",
        "  def plot_accuracy_curve(self):\n",
        "    plt.figure(figsize=(10, 7))\n",
        "    plt.plot(range(len(self.accuracies)), self.accuracies)\n",
        "    plt.title('Accuracy vs Iterations', fontsize=14)\n",
        "    plt.ylabel('Accuracy', fontsize=12)\n",
        "    plt.xlabel('Iterations', fontsize=12)\n",
        "    plt.show()"
      ],
      "metadata": {
        "id": "nvL3J0IdeOKl"
      },
      "execution_count": 335,
      "outputs": []
    },
    {
      "cell_type": "code",
      "source": [
        "model = LogisticRegressionV1(n_features=X.shape[1],\n",
        "                             n_iterations=300,\n",
        "                             learning_rate=1)\n",
        "model"
      ],
      "metadata": {
        "colab": {
          "base_uri": "https://localhost:8080/"
        },
        "id": "caVCKzyinEnh",
        "outputId": "5a123446-6147-4567-b002-53b3c37e21e1"
      },
      "execution_count": 336,
      "outputs": [
        {
          "output_type": "execute_result",
          "data": {
            "text/plain": [
              "<__main__.LogisticRegressionV1 at 0x7cb25d3abf10>"
            ]
          },
          "metadata": {},
          "execution_count": 336
        }
      ]
    },
    {
      "cell_type": "code",
      "source": [
        "# Before training\n",
        "print(f'Weights: {model.w}')\n",
        "print(f'Bias: {model.b}')\n",
        "print(f'Accuracy: {model.accuracy_score(y, model.predict(X)) * 100:.2f}%')"
      ],
      "metadata": {
        "colab": {
          "base_uri": "https://localhost:8080/"
        },
        "id": "tgHvCJKPnUzu",
        "outputId": "ffa7a2fc-a02b-444f-c449-e23258a1031b"
      },
      "execution_count": 337,
      "outputs": [
        {
          "output_type": "stream",
          "name": "stdout",
          "text": [
            "Weights: [ 0.9392386  -0.86396488 -0.45628164]\n",
            "Bias: -1.2563320399568476\n",
            "Accuracy: 49.30%\n"
          ]
        }
      ]
    },
    {
      "cell_type": "code",
      "source": [
        "model.fit(X, y)"
      ],
      "metadata": {
        "id": "TbGOeLOYnoKe"
      },
      "execution_count": 338,
      "outputs": []
    },
    {
      "cell_type": "code",
      "source": [
        "# Before training\n",
        "print(f'Weights: {model.w}')\n",
        "print(f'Bias: {model.b}')\n",
        "print(f'Accuracy: {model.accuracy_score(y, model.predict(X)) * 100:.2f}%')"
      ],
      "metadata": {
        "colab": {
          "base_uri": "https://localhost:8080/"
        },
        "id": "gU90IlUWn049",
        "outputId": "7c473c47-965b-48cb-e5a3-bd58f85e06f0"
      },
      "execution_count": 339,
      "outputs": [
        {
          "output_type": "stream",
          "name": "stdout",
          "text": [
            "Weights: [-1.36176859 -2.09679444  3.93690696]\n",
            "Bias: -0.3563423640748843\n",
            "Accuracy: 92.20%\n"
          ]
        }
      ]
    },
    {
      "cell_type": "code",
      "source": [],
      "metadata": {
        "id": "mqoSYtzDn-Ph"
      },
      "execution_count": 334,
      "outputs": []
    }
  ]
}